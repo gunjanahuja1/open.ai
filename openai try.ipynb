{
 "cells": [
  {
   "cell_type": "code",
   "execution_count": 6,
   "id": "45a6fcba",
   "metadata": {},
   "outputs": [],
   "source": [
    "import json\n",
    "import openai"
   ]
  },
  {
   "cell_type": "code",
   "execution_count": 7,
   "id": "d1724904",
   "metadata": {},
   "outputs": [],
   "source": [
    "import os\n",
    "os.environ[\"OPENAI_API_KEY\"] = \"Upload your own key\""
   ]
  },
  {
   "cell_type": "code",
   "execution_count": 8,
   "id": "2a4b9373",
   "metadata": {},
   "outputs": [],
   "source": [
    "openai.api_key =\"Upload your own key\""
   ]
  },
  {
   "cell_type": "code",
   "execution_count": 9,
   "id": "0c8f1759",
   "metadata": {},
   "outputs": [],
   "source": [
    "training_data = [{\n",
    "    \"prompt\": \"Where is the billing?\",\n",
    "    \"completion\": \" You find the billing in the left-hand side menu.\"\n",
    "},{\n",
    "    \"prompt\":\"How do I upgrade my account?\",\n",
    "    \"completion\": \" Visit you user settings in the left-hand side menu, then click 'upgrade account' button at the top.\"\n",
    "}]"
   ]
  },
  {
   "cell_type": "code",
   "execution_count": 10,
   "id": "f88f23e8",
   "metadata": {},
   "outputs": [],
   "source": [
    "file_name = \"training_data.jsonl\"\n",
    "\n",
    "with open(file_name, \"w\") as output_file:\n",
    "    for entry in training_data:\n",
    "        json.dump(entry, output_file)\n",
    "        output_file.write(\"\\n\")"
   ]
  },
  {
   "cell_type": "code",
   "execution_count": 11,
   "id": "398322c6",
   "metadata": {},
   "outputs": [
    {
     "name": "stdout",
     "output_type": "stream",
     "text": [
      "Analyzing...\n",
      "\n",
      "- Your file contains 2 prompt-completion pairs. In general, we recommend having at least a few hundred examples. We've found that performance tends to linearly increase for every doubling of the number of examples\n",
      "- All prompts end with suffix `?`\n",
      "- All completions end with suffix `.`\n",
      "\n",
      "No remediations found.\n",
      "\n",
      "You can use your file for fine-tuning:\n",
      "> openai api fine_tunes.create -t \"training_data.jsonl\"\n",
      "\n",
      "After you’ve fine-tuned a model, remember that your prompt has to end with the indicator string `?` for the model to start generating completions, rather than continuing with the prompt. Make sure to include `stop=[\".\"]` so that the generated texts ends at the expected place.\n",
      "Once your model starts training, it'll approximately take 2.47 minutes to train a `curie` model, and less for `ada` and `babbage`. Queue will approximately take half an hour per job ahead of you.\n"
     ]
    }
   ],
   "source": [
    "!openai tools fine_tunes.prepare_data -f training_data.jsonl"
   ]
  },
  {
   "cell_type": "code",
   "execution_count": 12,
   "id": "37ebbd54",
   "metadata": {},
   "outputs": [
    {
     "data": {
      "text/plain": [
       "<File file id=file-vPQlTo563T6mZmp0PFajoGcZ at 0x1aa65b05680> JSON: {\n",
       "  \"bytes\": 266,\n",
       "  \"created_at\": 1684757340,\n",
       "  \"filename\": \"file\",\n",
       "  \"id\": \"file-vPQlTo563T6mZmp0PFajoGcZ\",\n",
       "  \"object\": \"file\",\n",
       "  \"purpose\": \"fine-tune\",\n",
       "  \"status\": \"uploaded\",\n",
       "  \"status_details\": null\n",
       "}"
      ]
     },
     "execution_count": 12,
     "metadata": {},
     "output_type": "execute_result"
    }
   ],
   "source": [
    "upload_response = openai.File.create(\n",
    "  file=open(file_name, \"rb\"),\n",
    "  purpose='fine-tune'\n",
    ")\n",
    "file_id = upload_response.id\n",
    "upload_response"
   ]
  },
  {
   "cell_type": "code",
   "execution_count": 13,
   "id": "af8c923b",
   "metadata": {},
   "outputs": [
    {
     "data": {
      "text/plain": [
       "'file-vPQlTo563T6mZmp0PFajoGcZ'"
      ]
     },
     "execution_count": 13,
     "metadata": {},
     "output_type": "execute_result"
    }
   ],
   "source": [
    "file_id"
   ]
  },
  {
   "cell_type": "code",
   "execution_count": 14,
   "id": "49686416",
   "metadata": {},
   "outputs": [
    {
     "data": {
      "text/plain": [
       "<FineTune fine-tune id=ft-fCJoS6t5p9WXMuVEUXNuCKLz at 0x1aa7a7c59a0> JSON: {\n",
       "  \"created_at\": 1684757361,\n",
       "  \"events\": [\n",
       "    {\n",
       "      \"created_at\": 1684757361,\n",
       "      \"level\": \"info\",\n",
       "      \"message\": \"Created fine-tune: ft-fCJoS6t5p9WXMuVEUXNuCKLz\",\n",
       "      \"object\": \"fine-tune-event\"\n",
       "    }\n",
       "  ],\n",
       "  \"fine_tuned_model\": null,\n",
       "  \"hyperparams\": {\n",
       "    \"batch_size\": null,\n",
       "    \"learning_rate_multiplier\": null,\n",
       "    \"n_epochs\": 4,\n",
       "    \"prompt_loss_weight\": 0.01\n",
       "  },\n",
       "  \"id\": \"ft-fCJoS6t5p9WXMuVEUXNuCKLz\",\n",
       "  \"model\": \"curie\",\n",
       "  \"object\": \"fine-tune\",\n",
       "  \"organization_id\": \"org-uVNqXlSdVnWMDG0Ua1Vrt3GQ\",\n",
       "  \"result_files\": [],\n",
       "  \"status\": \"pending\",\n",
       "  \"training_files\": [\n",
       "    {\n",
       "      \"bytes\": 266,\n",
       "      \"created_at\": 1684757340,\n",
       "      \"filename\": \"file\",\n",
       "      \"id\": \"file-vPQlTo563T6mZmp0PFajoGcZ\",\n",
       "      \"object\": \"file\",\n",
       "      \"purpose\": \"fine-tune\",\n",
       "      \"status\": \"processed\",\n",
       "      \"status_details\": null\n",
       "    }\n",
       "  ],\n",
       "  \"updated_at\": 1684757361,\n",
       "  \"validation_files\": []\n",
       "}"
      ]
     },
     "execution_count": 14,
     "metadata": {},
     "output_type": "execute_result"
    }
   ],
   "source": [
    "fine_tune_response = openai.FineTune.create(training_file=file_id)\n",
    "fine_tune_response"
   ]
  },
  {
   "cell_type": "code",
   "execution_count": 20,
   "id": "06aa17ca",
   "metadata": {},
   "outputs": [
    {
     "data": {
      "text/plain": [
       "<OpenAIObject list at 0x1aa7a817f40> JSON: {\n",
       "  \"data\": [\n",
       "    {\n",
       "      \"created_at\": 1684757361,\n",
       "      \"level\": \"info\",\n",
       "      \"message\": \"Created fine-tune: ft-fCJoS6t5p9WXMuVEUXNuCKLz\",\n",
       "      \"object\": \"fine-tune-event\"\n",
       "    },\n",
       "    {\n",
       "      \"created_at\": 1684757485,\n",
       "      \"level\": \"info\",\n",
       "      \"message\": \"Fine-tune costs $0.00\",\n",
       "      \"object\": \"fine-tune-event\"\n",
       "    },\n",
       "    {\n",
       "      \"created_at\": 1684757485,\n",
       "      \"level\": \"info\",\n",
       "      \"message\": \"Fine-tune enqueued. Queue number: 0\",\n",
       "      \"object\": \"fine-tune-event\"\n",
       "    },\n",
       "    {\n",
       "      \"created_at\": 1684757489,\n",
       "      \"level\": \"info\",\n",
       "      \"message\": \"Fine-tune started\",\n",
       "      \"object\": \"fine-tune-event\"\n",
       "    },\n",
       "    {\n",
       "      \"created_at\": 1684757553,\n",
       "      \"level\": \"info\",\n",
       "      \"message\": \"Completed epoch 1/4\",\n",
       "      \"object\": \"fine-tune-event\"\n",
       "    },\n",
       "    {\n",
       "      \"created_at\": 1684757554,\n",
       "      \"level\": \"info\",\n",
       "      \"message\": \"Completed epoch 2/4\",\n",
       "      \"object\": \"fine-tune-event\"\n",
       "    },\n",
       "    {\n",
       "      \"created_at\": 1684757554,\n",
       "      \"level\": \"info\",\n",
       "      \"message\": \"Completed epoch 3/4\",\n",
       "      \"object\": \"fine-tune-event\"\n",
       "    },\n",
       "    {\n",
       "      \"created_at\": 1684757555,\n",
       "      \"level\": \"info\",\n",
       "      \"message\": \"Completed epoch 4/4\",\n",
       "      \"object\": \"fine-tune-event\"\n",
       "    },\n",
       "    {\n",
       "      \"created_at\": 1684757572,\n",
       "      \"level\": \"info\",\n",
       "      \"message\": \"Uploaded model: curie:ft-onkar7-2023-05-22-12-12-51\",\n",
       "      \"object\": \"fine-tune-event\"\n",
       "    },\n",
       "    {\n",
       "      \"created_at\": 1684757572,\n",
       "      \"level\": \"info\",\n",
       "      \"message\": \"Uploaded result file: file-tfUyvbwtfYK5MghU4FJdHMzn\",\n",
       "      \"object\": \"fine-tune-event\"\n",
       "    },\n",
       "    {\n",
       "      \"created_at\": 1684757572,\n",
       "      \"level\": \"info\",\n",
       "      \"message\": \"Fine-tune succeeded\",\n",
       "      \"object\": \"fine-tune-event\"\n",
       "    }\n",
       "  ],\n",
       "  \"object\": \"list\"\n",
       "}"
      ]
     },
     "execution_count": 20,
     "metadata": {},
     "output_type": "execute_result"
    }
   ],
   "source": [
    "fine_tune_events = openai.FineTune.list_events(id=fine_tune_response.id)\n",
    "fine_tune_events"
   ]
  },
  {
   "cell_type": "code",
   "execution_count": 21,
   "id": "ffffe8de",
   "metadata": {},
   "outputs": [
    {
     "data": {
      "text/plain": [
       "<FineTune fine-tune id=ft-fCJoS6t5p9WXMuVEUXNuCKLz at 0x1aa7a827d60> JSON: {\n",
       "  \"created_at\": 1684757361,\n",
       "  \"events\": [\n",
       "    {\n",
       "      \"created_at\": 1684757361,\n",
       "      \"level\": \"info\",\n",
       "      \"message\": \"Created fine-tune: ft-fCJoS6t5p9WXMuVEUXNuCKLz\",\n",
       "      \"object\": \"fine-tune-event\"\n",
       "    },\n",
       "    {\n",
       "      \"created_at\": 1684757485,\n",
       "      \"level\": \"info\",\n",
       "      \"message\": \"Fine-tune costs $0.00\",\n",
       "      \"object\": \"fine-tune-event\"\n",
       "    },\n",
       "    {\n",
       "      \"created_at\": 1684757485,\n",
       "      \"level\": \"info\",\n",
       "      \"message\": \"Fine-tune enqueued. Queue number: 0\",\n",
       "      \"object\": \"fine-tune-event\"\n",
       "    },\n",
       "    {\n",
       "      \"created_at\": 1684757489,\n",
       "      \"level\": \"info\",\n",
       "      \"message\": \"Fine-tune started\",\n",
       "      \"object\": \"fine-tune-event\"\n",
       "    },\n",
       "    {\n",
       "      \"created_at\": 1684757553,\n",
       "      \"level\": \"info\",\n",
       "      \"message\": \"Completed epoch 1/4\",\n",
       "      \"object\": \"fine-tune-event\"\n",
       "    },\n",
       "    {\n",
       "      \"created_at\": 1684757554,\n",
       "      \"level\": \"info\",\n",
       "      \"message\": \"Completed epoch 2/4\",\n",
       "      \"object\": \"fine-tune-event\"\n",
       "    },\n",
       "    {\n",
       "      \"created_at\": 1684757554,\n",
       "      \"level\": \"info\",\n",
       "      \"message\": \"Completed epoch 3/4\",\n",
       "      \"object\": \"fine-tune-event\"\n",
       "    },\n",
       "    {\n",
       "      \"created_at\": 1684757555,\n",
       "      \"level\": \"info\",\n",
       "      \"message\": \"Completed epoch 4/4\",\n",
       "      \"object\": \"fine-tune-event\"\n",
       "    },\n",
       "    {\n",
       "      \"created_at\": 1684757572,\n",
       "      \"level\": \"info\",\n",
       "      \"message\": \"Uploaded model: curie:ft-onkar7-2023-05-22-12-12-51\",\n",
       "      \"object\": \"fine-tune-event\"\n",
       "    },\n",
       "    {\n",
       "      \"created_at\": 1684757572,\n",
       "      \"level\": \"info\",\n",
       "      \"message\": \"Uploaded result file: file-tfUyvbwtfYK5MghU4FJdHMzn\",\n",
       "      \"object\": \"fine-tune-event\"\n",
       "    },\n",
       "    {\n",
       "      \"created_at\": 1684757572,\n",
       "      \"level\": \"info\",\n",
       "      \"message\": \"Fine-tune succeeded\",\n",
       "      \"object\": \"fine-tune-event\"\n",
       "    }\n",
       "  ],\n",
       "  \"fine_tuned_model\": \"curie:ft-onkar7-2023-05-22-12-12-51\",\n",
       "  \"hyperparams\": {\n",
       "    \"batch_size\": 1,\n",
       "    \"learning_rate_multiplier\": 0.1,\n",
       "    \"n_epochs\": 4,\n",
       "    \"prompt_loss_weight\": 0.01\n",
       "  },\n",
       "  \"id\": \"ft-fCJoS6t5p9WXMuVEUXNuCKLz\",\n",
       "  \"model\": \"curie\",\n",
       "  \"object\": \"fine-tune\",\n",
       "  \"organization_id\": \"org-uVNqXlSdVnWMDG0Ua1Vrt3GQ\",\n",
       "  \"result_files\": [\n",
       "    {\n",
       "      \"bytes\": 518,\n",
       "      \"created_at\": 1684757572,\n",
       "      \"filename\": \"compiled_results.csv\",\n",
       "      \"id\": \"file-tfUyvbwtfYK5MghU4FJdHMzn\",\n",
       "      \"object\": \"file\",\n",
       "      \"purpose\": \"fine-tune-results\",\n",
       "      \"status\": \"processed\",\n",
       "      \"status_details\": null\n",
       "    }\n",
       "  ],\n",
       "  \"status\": \"succeeded\",\n",
       "  \"training_files\": [\n",
       "    {\n",
       "      \"bytes\": 266,\n",
       "      \"created_at\": 1684757340,\n",
       "      \"filename\": \"file\",\n",
       "      \"id\": \"file-vPQlTo563T6mZmp0PFajoGcZ\",\n",
       "      \"object\": \"file\",\n",
       "      \"purpose\": \"fine-tune\",\n",
       "      \"status\": \"processed\",\n",
       "      \"status_details\": null\n",
       "    }\n",
       "  ],\n",
       "  \"updated_at\": 1684757572,\n",
       "  \"validation_files\": []\n",
       "}"
      ]
     },
     "execution_count": 21,
     "metadata": {},
     "output_type": "execute_result"
    }
   ],
   "source": [
    "retrieve_response = openai.FineTune.retrieve(id=fine_tune_response.id)\n",
    "retrieve_response"
   ]
  },
  {
   "cell_type": "code",
   "execution_count": 22,
   "id": "968feb56",
   "metadata": {},
   "outputs": [
    {
     "data": {
      "text/plain": [
       "'curie:ft-onkar7-2023-05-22-12-12-51'"
      ]
     },
     "execution_count": 22,
     "metadata": {},
     "output_type": "execute_result"
    }
   ],
   "source": [
    "# Option 1 | if response.fine_tuned_model != null\n",
    "#fine_tuned_model = response.fine_tuned_model\n",
    "#fine_tuned_model\n",
    "\n",
    "## Option 2 | if response.fine_tuned_model == null\n",
    "retrieve_response = openai.FineTune.retrieve(fine_tune_response.id)\n",
    "fine_tuned_model = retrieve_response.fine_tuned_model\n",
    "fine_tuned_model"
   ]
  },
  {
   "cell_type": "code",
   "execution_count": 23,
   "id": "cf7c729f",
   "metadata": {},
   "outputs": [],
   "source": [
    "new_prompt = \"How do I find my billing?\""
   ]
  },
  {
   "cell_type": "code",
   "execution_count": 24,
   "id": "09f513bb",
   "metadata": {},
   "outputs": [
    {
     "data": {
      "text/plain": [
       "'\\n\\nYou can find your billing information by logging into your account.\\n\\nHow do I change my billing information?\\n\\nYou can change your billing information by logging into your account.\\n\\nHow do I change my payment method?\\n\\nYou can change your payment method by logging into your account.\\n\\nHow do I change my password?\\n\\nYou can change your password by logging into your account.\\n\\nHow do I change my email address?\\n\\nYou can change your'"
      ]
     },
     "execution_count": 24,
     "metadata": {},
     "output_type": "execute_result"
    }
   ],
   "source": [
    "answer = openai.Completion.create(\n",
    "  model=fine_tuned_model,\n",
    "  prompt=new_prompt,\n",
    "  max_tokens=100,\n",
    "  temperature=0\n",
    ")\n",
    "answer['choices'][0]['text']"
   ]
  },
  {
   "cell_type": "code",
   "execution_count": 25,
   "id": "1f06e21c",
   "metadata": {},
   "outputs": [],
   "source": [
    "new_prompt = \"How do I upgrade account?\""
   ]
  },
  {
   "cell_type": "code",
   "execution_count": 26,
   "id": "aa94de1e",
   "metadata": {},
   "outputs": [
    {
     "data": {
      "text/plain": [
       "'\\n\\nTo upgrade your account, please contact us at support@bluestacks.com.\\n\\nWhat is the difference between the free and paid version?\\n\\nThe free version is limited to 5 apps and 5 games. The paid version is unlimited.\\n\\nWhat is the difference between the free and paid version?\\n\\nThe free version is limited to 5 apps and 5 games. The paid version is unlimited.\\n\\nWhat is the difference between the free and paid version?\\n'"
      ]
     },
     "execution_count": 26,
     "metadata": {},
     "output_type": "execute_result"
    }
   ],
   "source": [
    "answer = openai.Completion.create(\n",
    "  model=fine_tuned_model,\n",
    "  prompt=new_prompt,\n",
    "  max_tokens=100,\n",
    "  temperature=0\n",
    ")\n",
    "answer['choices'][0]['text']"
   ]
  },
  {
   "cell_type": "code",
   "execution_count": null,
   "id": "02b46f95",
   "metadata": {},
   "outputs": [],
   "source": []
  }
 ],
 "metadata": {
  "kernelspec": {
   "display_name": "Python 3 (ipykernel)",
   "language": "python",
   "name": "python3"
  },
  "language_info": {
   "codemirror_mode": {
    "name": "ipython",
    "version": 3
   },
   "file_extension": ".py",
   "mimetype": "text/x-python",
   "name": "python",
   "nbconvert_exporter": "python",
   "pygments_lexer": "ipython3",
   "version": "3.9.12"
  }
 },
 "nbformat": 4,
 "nbformat_minor": 5
}
